{
  "nbformat": 4,
  "nbformat_minor": 0,
  "metadata": {
    "colab": {
      "name": "Untitled4.ipynb",
      "provenance": [],
      "collapsed_sections": [],
      "authorship_tag": "ABX9TyNjcuFbV46VfVaSJ5ImxyPG",
      "include_colab_link": true
    },
    "kernelspec": {
      "name": "python3",
      "display_name": "Python 3"
    },
    "language_info": {
      "name": "python"
    }
  },
  "cells": [
    {
      "cell_type": "markdown",
      "metadata": {
        "id": "view-in-github",
        "colab_type": "text"
      },
      "source": [
        "<a href=\"https://colab.research.google.com/github/Anumeler/Anumeler/blob/main/Untitled4.ipynb\" target=\"_parent\"><img src=\"https://colab.research.google.com/assets/colab-badge.svg\" alt=\"Open In Colab\"/></a>"
      ]
    },
    {
      "cell_type": "code",
      "execution_count": null,
      "metadata": {
        "colab": {
          "base_uri": "https://localhost:8080/"
        },
        "id": "xbPNqM1ox41a",
        "outputId": "31885a6a-9699-42b5-9b1b-c8b9ae817bff"
      },
      "outputs": [
        {
          "output_type": "stream",
          "name": "stdout",
          "text": [
            "Hallo\n"
          ]
        }
      ],
      "source": [
        "print('Hallo')"
      ]
    },
    {
      "cell_type": "code",
      "source": [
        "print(\"Hello\")\n"
      ],
      "metadata": {
        "colab": {
          "base_uri": "https://localhost:8080/"
        },
        "id": "SZ2ZRmITyGHS",
        "outputId": "efa07136-bf80-47c2-cce4-86763de27de3"
      },
      "execution_count": null,
      "outputs": [
        {
          "output_type": "stream",
          "name": "stdout",
          "text": [
            "Hello\n"
          ]
        }
      ]
    },
    {
      "cell_type": "markdown",
      "source": [
        "Strings"
      ],
      "metadata": {
        "id": "41iGx1M3yZJJ"
      }
    },
    {
      "cell_type": "code",
      "source": [
        "print(\"Hallo Welt\")"
      ],
      "metadata": {
        "colab": {
          "base_uri": "https://localhost:8080/"
        },
        "id": "BoRs-kUyybVa",
        "outputId": "abfcdf20-cbb1-4023-9ab1-d9732c978fbf"
      },
      "execution_count": null,
      "outputs": [
        {
          "output_type": "stream",
          "name": "stdout",
          "text": [
            "Hallo Welt\n"
          ]
        }
      ]
    },
    {
      "cell_type": "code",
      "source": [
        "name = 'Anvar'\n",
        "print('Ich bin ' + name)"
      ],
      "metadata": {
        "colab": {
          "base_uri": "https://localhost:8080/"
        },
        "id": "vDjEqEoGyif5",
        "outputId": "1778ebdc-c710-4206-b650-74afe8c6dc6e"
      },
      "execution_count": null,
      "outputs": [
        {
          "output_type": "stream",
          "name": "stdout",
          "text": [
            "Ich bin Anvar\n"
          ]
        }
      ]
    },
    {
      "cell_type": "code",
      "source": [
        "print('Ich bin ' + '5')"
      ],
      "metadata": {
        "colab": {
          "base_uri": "https://localhost:8080/"
        },
        "id": "-XISOhHgyyHR",
        "outputId": "c9c6a978-1801-4bf4-e38f-059c6d98af7a"
      },
      "execution_count": null,
      "outputs": [
        {
          "output_type": "stream",
          "name": "stdout",
          "text": [
            "Ich bin 5\n"
          ]
        }
      ]
    },
    {
      "cell_type": "code",
      "source": [
        "age = 20 \n",
        "print('Ich bin ' + str(age))"
      ],
      "metadata": {
        "colab": {
          "base_uri": "https://localhost:8080/"
        },
        "id": "hYu2Eh4DyySy",
        "outputId": "d950afd3-a7c6-41e6-833c-4b3e27180413"
      },
      "execution_count": null,
      "outputs": [
        {
          "output_type": "stream",
          "name": "stdout",
          "text": [
            "Ich bin 20\n"
          ]
        }
      ]
    },
    {
      "cell_type": "code",
      "source": [
        " v = 'Hallo Welt'\n",
        " print(v)"
      ],
      "metadata": {
        "colab": {
          "base_uri": "https://localhost:8080/"
        },
        "id": "NIMilkJv1eyO",
        "outputId": "c5ff2330-9627-4cce-d33b-745c2c27ce5c"
      },
      "execution_count": null,
      "outputs": [
        {
          "output_type": "stream",
          "name": "stdout",
          "text": [
            "Hallo Welt\n"
          ]
        }
      ]
    },
    {
      "cell_type": "code",
      "source": [
        "v = 15\n",
        "print(v)"
      ],
      "metadata": {
        "colab": {
          "base_uri": "https://localhost:8080/"
        },
        "id": "avdM8k0Y1ncm",
        "outputId": "d043e245-93d3-4458-8dd3-06c8fa136267"
      },
      "execution_count": null,
      "outputs": [
        {
          "output_type": "stream",
          "name": "stdout",
          "text": [
            "15\n"
          ]
        }
      ]
    },
    {
      "cell_type": "code",
      "source": [
        "v = str(15)\n",
        "print(v)"
      ],
      "metadata": {
        "colab": {
          "base_uri": "https://localhost:8080/"
        },
        "id": "ZnUPaCZf1t3O",
        "outputId": "a8e0976c-7043-45a7-aade-8b5173751682"
      },
      "execution_count": null,
      "outputs": [
        {
          "output_type": "stream",
          "name": "stdout",
          "text": [
            "15\n"
          ]
        }
      ]
    },
    {
      "cell_type": "code",
      "source": [
        "print(\"Du hast \" + str(111) + \" Cent\")"
      ],
      "metadata": {
        "colab": {
          "base_uri": "https://localhost:8080/"
        },
        "id": "3BTWGjne1_J3",
        "outputId": "85ad9907-f0ac-40a7-b705-39edb86c3e15"
      },
      "execution_count": null,
      "outputs": [
        {
          "output_type": "stream",
          "name": "stdout",
          "text": [
            "Du hast 111 Cent\n"
          ]
        }
      ]
    },
    {
      "cell_type": "markdown",
      "source": [
        "Listen"
      ],
      "metadata": {
        "id": "1Jpwz0ih2xs9"
      }
    },
    {
      "cell_type": "code",
      "source": [
        "student0 = \"Mery\"\n",
        "student1 = \"Komil\"\n",
        "student2 = \"Hoshim\"\n",
        "student3 = \"Usmon\""
      ],
      "metadata": {
        "id": "xyXXU0ky2Ysv"
      },
      "execution_count": null,
      "outputs": []
    },
    {
      "cell_type": "code",
      "source": [
        "students = [\"Mery\", \"Komil\", \"Hoshim\", \"Usmon\"]"
      ],
      "metadata": {
        "id": "527QR8lX3MkV"
      },
      "execution_count": null,
      "outputs": []
    },
    {
      "cell_type": "code",
      "source": [
        "print(students)"
      ],
      "metadata": {
        "colab": {
          "base_uri": "https://localhost:8080/"
        },
        "id": "pd-T1wrB3grk",
        "outputId": "c1a59781-c029-44fd-fe64-293ae64c85e3"
      },
      "execution_count": null,
      "outputs": [
        {
          "output_type": "stream",
          "name": "stdout",
          "text": [
            "['Mery', 'Komil', 'Hoshim', 'Usmon']\n"
          ]
        }
      ]
    },
    {
      "cell_type": "code",
      "source": [
        "students.append(\"Botir\")"
      ],
      "metadata": {
        "id": "PD-oMqmd4K6L"
      },
      "execution_count": null,
      "outputs": []
    },
    {
      "cell_type": "code",
      "source": [
        "print(students)"
      ],
      "metadata": {
        "colab": {
          "base_uri": "https://localhost:8080/"
        },
        "id": "cXLn9zO2Bzab",
        "outputId": "b8c40473-6c51-44ce-b3ae-72ad031763c5"
      },
      "execution_count": null,
      "outputs": [
        {
          "output_type": "stream",
          "name": "stdout",
          "text": [
            "['Mery', 'Komil', 'Hoshim', 'Usmon', 'Botir']\n"
          ]
        }
      ]
    },
    {
      "cell_type": "code",
      "source": [
        "print(len(students))"
      ],
      "metadata": {
        "colab": {
          "base_uri": "https://localhost:8080/"
        },
        "id": "LMG7wpfKDJHY",
        "outputId": "d64c0d0d-dca5-4e52-ffd2-3010d312dc98"
      },
      "execution_count": null,
      "outputs": [
        {
          "output_type": "stream",
          "name": "stdout",
          "text": [
            "5\n"
          ]
        }
      ]
    },
    {
      "cell_type": "code",
      "source": [
        "print(students[0])"
      ],
      "metadata": {
        "colab": {
          "base_uri": "https://localhost:8080/"
        },
        "id": "5Y0KL5o7DbIg",
        "outputId": "ec30e6c1-dd4c-4108-8441-ce3633baba18"
      },
      "execution_count": null,
      "outputs": [
        {
          "output_type": "stream",
          "name": "stdout",
          "text": [
            "Mery\n"
          ]
        }
      ]
    },
    {
      "cell_type": "code",
      "source": [
        "print(students[0] + \" & \" + students[4])"
      ],
      "metadata": {
        "colab": {
          "base_uri": "https://localhost:8080/"
        },
        "id": "kcJQjS26DnVn",
        "outputId": "25ea13f6-ef0b-4818-c2ea-bcefcf2edee6"
      },
      "execution_count": null,
      "outputs": [
        {
          "output_type": "stream",
          "name": "stdout",
          "text": [
            "Mery & Botir\n"
          ]
        }
      ]
    },
    {
      "cell_type": "markdown",
      "source": [
        "Listen - Die .pop"
      ],
      "metadata": {
        "id": "UcuP-Jz9FBrt"
      }
    },
    {
      "cell_type": "code",
      "source": [
        "planets = [\"Merkur\", \"Venus\",\"Erde\",\"Pluto\"]\n",
        "planets.pop(0)\n",
        "print(planets)"
      ],
      "metadata": {
        "colab": {
          "base_uri": "https://localhost:8080/"
        },
        "id": "7IFVpsbqEU7o",
        "outputId": "672018f2-a063-4fb9-967f-88e5bbe6b6b4"
      },
      "execution_count": null,
      "outputs": [
        {
          "output_type": "stream",
          "name": "stdout",
          "text": [
            "['Venus', 'Erde', 'Pluto']\n"
          ]
        }
      ]
    },
    {
      "cell_type": "code",
      "source": [
        "planets = [\"Merkur\", \"Venus\",\"Erde\",\"Pluto\"]\n",
        "p = planets.pop()\n",
        "print(p)"
      ],
      "metadata": {
        "colab": {
          "base_uri": "https://localhost:8080/"
        },
        "id": "n__Yv3agrMt7",
        "outputId": "ab2bcf92-a750-4ed5-b3ab-56dd864c2e49"
      },
      "execution_count": null,
      "outputs": [
        {
          "output_type": "stream",
          "name": "stdout",
          "text": [
            "Pluto\n"
          ]
        }
      ]
    },
    {
      "cell_type": "markdown",
      "source": [
        "Daten **umwandeln**"
      ],
      "metadata": {
        "id": "W09yQbk9sEYo"
      }
    },
    {
      "cell_type": "code",
      "source": [
        "a = \"5\"\n",
        "b = \"6\"\n",
        "print(a + b)"
      ],
      "metadata": {
        "colab": {
          "base_uri": "https://localhost:8080/"
        },
        "id": "dkmOQHe9tvvb",
        "outputId": "850cdc5a-2ee8-44eb-9056-d8d7164fdc1b"
      },
      "execution_count": null,
      "outputs": [
        {
          "output_type": "stream",
          "name": "stdout",
          "text": [
            "56\n"
          ]
        }
      ]
    },
    {
      "cell_type": "code",
      "source": [
        "a = \"5\"\n",
        "b = \"6\"\n",
        "print(int(a) + int(b))"
      ],
      "metadata": {
        "colab": {
          "base_uri": "https://localhost:8080/"
        },
        "id": "U5PdCjvCviRa",
        "outputId": "e659c831-f5cb-471b-e27d-072707c6da36"
      },
      "execution_count": null,
      "outputs": [
        {
          "output_type": "stream",
          "name": "stdout",
          "text": [
            "11\n"
          ]
        }
      ]
    },
    {
      "cell_type": "code",
      "source": [
        "a = \"5.5\"\n",
        "b = \"6.6\"\n",
        "print(float(a) + float(b))"
      ],
      "metadata": {
        "colab": {
          "base_uri": "https://localhost:8080/"
        },
        "id": "xGCuMz-Qv5ib",
        "outputId": "5db331b7-87ad-467e-8aee-6551c79fc90f"
      },
      "execution_count": null,
      "outputs": [
        {
          "output_type": "stream",
          "name": "stdout",
          "text": [
            "12.1\n"
          ]
        }
      ]
    },
    {
      "cell_type": "markdown",
      "source": [
        "Liste -> String"
      ],
      "metadata": {
        "id": "fQLgAaza-fMA"
      }
    },
    {
      "cell_type": "code",
      "source": [
        "students = [\"Mery\", \"Komil\", \"Hoshim\", \"Usmon\"]\n",
        "print(\"#\".join(students))"
      ],
      "metadata": {
        "colab": {
          "base_uri": "https://localhost:8080/"
        },
        "id": "Y_yyEjJd-lXc",
        "outputId": "2cd076b7-43e8-487c-d80a-efd5869bde6c"
      },
      "execution_count": null,
      "outputs": [
        {
          "output_type": "stream",
          "name": "stdout",
          "text": [
            "Mery#Komil#Hoshim#Usmon\n"
          ]
        }
      ]
    },
    {
      "cell_type": "code",
      "source": [
        "students = [\"Mery\", \"Komil\", \"Hoshim\", \"Usmon\"]\n",
        "print(\", \".join(students))"
      ],
      "metadata": {
        "colab": {
          "base_uri": "https://localhost:8080/"
        },
        "id": "U0O4To5r-9Wr",
        "outputId": "c523a191-94d2-420c-e78f-3963b0a5a6e1"
      },
      "execution_count": null,
      "outputs": [
        {
          "output_type": "stream",
          "name": "stdout",
          "text": [
            "Mery, Komil, Hoshim, Usmon\n"
          ]
        }
      ]
    },
    {
      "cell_type": "code",
      "source": [
        "students_as_string = \", \".join(students)\n",
        "print(\"An unserer Uni studieren: \" + students_as_string)"
      ],
      "metadata": {
        "colab": {
          "base_uri": "https://localhost:8080/"
        },
        "id": "Ndc6ptWO_Ar7",
        "outputId": "7a30e6bc-ba15-4445-eb42-45c5e8a180d2"
      },
      "execution_count": null,
      "outputs": [
        {
          "output_type": "stream",
          "name": "stdout",
          "text": [
            "An unserer Uni studieren: Mery, Komil, Hoshim, Usmon\n"
          ]
        }
      ]
    },
    {
      "cell_type": "code",
      "source": [
        "zahlen = [\"3\", \"4\", \"5\", \"7,0\"]\n",
        "print(\",0; \".join(zahlen))"
      ],
      "metadata": {
        "colab": {
          "base_uri": "https://localhost:8080/"
        },
        "id": "Vgvv4fTyAxFT",
        "outputId": "1814970a-8e70-41e2-fa07-e5e7b12fc527"
      },
      "execution_count": null,
      "outputs": [
        {
          "output_type": "stream",
          "name": "stdout",
          "text": [
            "3,0; 4,0; 5,0; 7,0\n"
          ]
        }
      ]
    },
    {
      "cell_type": "markdown",
      "source": [
        "String -> Liste "
      ],
      "metadata": {
        "id": "6-688xTg_cjD"
      }
    },
    {
      "cell_type": "code",
      "source": [
        "i = \"Mery, Komil, Hoshim, Usmon\"\n",
        "print(i.split())"
      ],
      "metadata": {
        "colab": {
          "base_uri": "https://localhost:8080/"
        },
        "id": "30YmMds-_iQC",
        "outputId": "25006ae5-68f0-492d-bdca-05a1809f4929"
      },
      "execution_count": null,
      "outputs": [
        {
          "output_type": "stream",
          "name": "stdout",
          "text": [
            "['Mery,', 'Komil,', 'Hoshim,', 'Usmon']\n"
          ]
        }
      ]
    },
    {
      "cell_type": "code",
      "source": [
        "g = \"Ich bin ein Satz mit vielen Wörtern\"\n",
        "print(g.split())"
      ],
      "metadata": {
        "colab": {
          "base_uri": "https://localhost:8080/"
        },
        "id": "mJePTG-ZD8Hq",
        "outputId": "84730b23-2e17-4d66-f90e-528ffd89d2b8"
      },
      "execution_count": null,
      "outputs": [
        {
          "output_type": "stream",
          "name": "stdout",
          "text": [
            "['Ich', 'bin', 'ein', 'Satz', 'mit', 'vielen', 'Wörtern']\n"
          ]
        }
      ]
    },
    {
      "cell_type": "code",
      "source": [
        "print(len(g.split()))"
      ],
      "metadata": {
        "colab": {
          "base_uri": "https://localhost:8080/"
        },
        "id": "-2UfhD--ENaZ",
        "outputId": "6578b21a-122f-4f71-a4f7-05d653b790b9"
      },
      "execution_count": null,
      "outputs": [
        {
          "output_type": "stream",
          "name": "stdout",
          "text": [
            "7\n"
          ]
        }
      ]
    },
    {
      "cell_type": "markdown",
      "source": [
        "Abschluss Python Grundlagen"
      ],
      "metadata": {
        "id": "ykEaJ6QbEhYn"
      }
    },
    {
      "cell_type": "code",
      "source": [
        "#1) a.)\n",
        "number = 6\n",
        "\n",
        "result = (number * 2 + 10) / 2\n",
        "\n",
        "print(result)"
      ],
      "metadata": {
        "id": "R9RCox_3I32E",
        "colab": {
          "base_uri": "https://localhost:8080/"
        },
        "outputId": "9abfd727-26ef-4499-a4ee-8a3c4cc4c340"
      },
      "execution_count": null,
      "outputs": [
        {
          "output_type": "stream",
          "name": "stdout",
          "text": [
            "11.0\n"
          ]
        }
      ]
    },
    {
      "cell_type": "code",
      "source": [
        "#b.)\n",
        "print(int(result))"
      ],
      "metadata": {
        "colab": {
          "base_uri": "https://localhost:8080/"
        },
        "id": "0kS3hFLAKxqq",
        "outputId": "34f70b4b-5d4d-4e7c-a523-986b8723847f"
      },
      "execution_count": null,
      "outputs": [
        {
          "output_type": "stream",
          "name": "stdout",
          "text": [
            "11\n"
          ]
        }
      ]
    },
    {
      "cell_type": "code",
      "source": [
        "#c.)\n",
        "print(\"Du hast \" + str(number) + \" ausgewählt, das Ergebnis ist \" + str(int(result)) + \"!\")"
      ],
      "metadata": {
        "colab": {
          "base_uri": "https://localhost:8080/"
        },
        "id": "Ojnh86wpLBFD",
        "outputId": "93aa435f-8ceb-49fc-89f1-b068f27b5344"
      },
      "execution_count": null,
      "outputs": [
        {
          "output_type": "stream",
          "name": "stdout",
          "text": [
            "Du hast 6 ausgewählt, das Ergebnis ist 11!\n"
          ]
        }
      ]
    },
    {
      "cell_type": "code",
      "source": [
        "#2) a.)\n",
        "\n",
        "mail = \"willy.wizard@zauberschule.de\"\n",
        "\n",
        "#d = mail.split((\"@zauberschule.de\")\n",
        "#print(\"\".join(d))\n",
        "\n",
        "print(mail.split(\"@\")[0])"
      ],
      "metadata": {
        "colab": {
          "base_uri": "https://localhost:8080/"
        },
        "id": "wShE9iKGM2ZU",
        "outputId": "2be17558-9c7a-43b7-fbc7-cd8918dca300"
      },
      "execution_count": null,
      "outputs": [
        {
          "output_type": "stream",
          "name": "stdout",
          "text": [
            "willy.wizard\n"
          ]
        }
      ]
    },
    {
      "cell_type": "code",
      "source": [
        "mail0 = \"info@helena-hexe.com\"\n",
        "#s = mail0.split(\"info@\" + \".com\")\n",
        "#print(s.split(\".com\"))\n",
        " \n",
        "print(mail0.split(\"@\")[1].split(\".\")[0])"
      ],
      "metadata": {
        "colab": {
          "base_uri": "https://localhost:8080/"
        },
        "id": "IN7QD3zMWow-",
        "outputId": "a67364b2-f004-4aef-f4fa-aba0933ebce3"
      },
      "execution_count": null,
      "outputs": [
        {
          "output_type": "stream",
          "name": "stdout",
          "text": [
            "helena-hexe\n"
          ]
        }
      ]
    },
    {
      "cell_type": "code",
      "source": [
        "mail1 = \"zarah.zauber@zauberberg.de\"\n",
        "mail2 = \"info@trixie-trickser.com\"\n",
        "mail3 = \"uwe_unhold@dunkelnetz.de\"\n",
        "\n",
        "clients = [mail1,mail2,mail3]\n",
        "\n",
        "print(clients)"
      ],
      "metadata": {
        "colab": {
          "base_uri": "https://localhost:8080/"
        },
        "id": "wM1BU8j6uYyd",
        "outputId": "4dd3b0ba-2edd-4195-bd40-96fe54e7692d"
      },
      "execution_count": null,
      "outputs": [
        {
          "output_type": "stream",
          "name": "stdout",
          "text": [
            "['zarah.zauber@zauberberg.de', 'info@trixie-trickser.com', 'uwe_unhold@dunkelnetz.de']\n"
          ]
        }
      ]
    },
    {
      "cell_type": "code",
      "source": [
        "print(len(clients))"
      ],
      "metadata": {
        "colab": {
          "base_uri": "https://localhost:8080/"
        },
        "id": "lojJcdxPvrI-",
        "outputId": "4da26995-5cef-453a-fea6-3e4f8ae9b823"
      },
      "execution_count": null,
      "outputs": [
        {
          "output_type": "stream",
          "name": "stdout",
          "text": [
            "3\n"
          ]
        }
      ]
    },
    {
      "cell_type": "code",
      "source": [
        "zauberer = [\"Buehnenzauberer\", \"magic.com\"]\n",
        "\n",
        "\n",
        "print(\"@\".join(zauberer))"
      ],
      "metadata": {
        "colab": {
          "base_uri": "https://localhost:8080/"
        },
        "id": "OMfsUMkFv8cl",
        "outputId": "97ca8934-b879-46df-8a03-0fb54ed98c40"
      },
      "execution_count": null,
      "outputs": [
        {
          "output_type": "stream",
          "name": "stdout",
          "text": [
            "Buehnenzauberer@magic.com\n"
          ]
        }
      ]
    },
    {
      "cell_type": "markdown",
      "source": [
        "Kontrollstrukturen\n",
        "\n",
        "if / else"
      ],
      "metadata": {
        "id": "Ox0xoA8iw7wP"
      }
    },
    {
      "cell_type": "code",
      "source": [
        "n = 50\n",
        "if n < 42:\n",
        "  print(\"Die Zahl ist kleiner als 42\")\n",
        "else:\n",
        "  print(\"ist nicht der Fall\")"
      ],
      "metadata": {
        "colab": {
          "base_uri": "https://localhost:8080/"
        },
        "id": "YzILbvqMS4bc",
        "outputId": "b7599fff-c22b-41f0-c425-8459dedeb929"
      },
      "execution_count": null,
      "outputs": [
        {
          "output_type": "stream",
          "name": "stdout",
          "text": [
            "ist nicht der Fall\n"
          ]
        }
      ]
    },
    {
      "cell_type": "code",
      "source": [
        "age = 20 \n",
        "if age < 18:\n",
        "  print(\"Zutritt ist nicht erlaubt!\")\n",
        "else:\n",
        "  print(\"Du kannst treten!\")"
      ],
      "metadata": {
        "colab": {
          "base_uri": "https://localhost:8080/"
        },
        "id": "eQzFidgOpowA",
        "outputId": "ff9754f1-376c-47ba-af20-7cfdba6d7e4b"
      },
      "execution_count": null,
      "outputs": [
        {
          "output_type": "stream",
          "name": "stdout",
          "text": [
            "Du kannst treten!\n"
          ]
        }
      ]
    },
    {
      "cell_type": "markdown",
      "source": [
        "Vergleichsoperatoren / boolean"
      ],
      "metadata": {
        "id": "mjW_-B4Lwmc3"
      }
    },
    {
      "cell_type": "code",
      "source": [
        "if 6 < 5:\n",
        "  print(\"Ja\")"
      ],
      "metadata": {
        "id": "G1xLwgHHwloh"
      },
      "execution_count": null,
      "outputs": []
    },
    {
      "cell_type": "code",
      "source": [
        "print(6 < 5)\n",
        "print(5 < 6)"
      ],
      "metadata": {
        "colab": {
          "base_uri": "https://localhost:8080/"
        },
        "id": "zxDmzRKnxZme",
        "outputId": "9af26e95-0bf9-4ec7-fd9b-5fedebf040e4"
      },
      "execution_count": null,
      "outputs": [
        {
          "output_type": "stream",
          "name": "stdout",
          "text": [
            "False\n",
            "True\n"
          ]
        }
      ]
    },
    {
      "cell_type": "code",
      "source": [
        "b = False\n",
        "print(b)"
      ],
      "metadata": {
        "colab": {
          "base_uri": "https://localhost:8080/"
        },
        "id": "cFrTzOZuxiym",
        "outputId": "b5dc898c-e3a9-41a8-8b91-ca71c06d856c"
      },
      "execution_count": null,
      "outputs": [
        {
          "output_type": "stream",
          "name": "stdout",
          "text": [
            "False\n"
          ]
        }
      ]
    },
    {
      "cell_type": "code",
      "source": [
        "result = 5 < 6 \n",
        "if result:\n",
        "  print(\"5 ist kleiner als 6\")\n"
      ],
      "metadata": {
        "colab": {
          "base_uri": "https://localhost:8080/"
        },
        "id": "VMztOIL8xt2f",
        "outputId": "9df618f0-09d0-40a6-bd28-29a3bc368fa2"
      },
      "execution_count": null,
      "outputs": [
        {
          "output_type": "stream",
          "name": "stdout",
          "text": [
            "5 ist kleiner als 6\n"
          ]
        }
      ]
    },
    {
      "cell_type": "code",
      "source": [
        "print(5 < 6)"
      ],
      "metadata": {
        "colab": {
          "base_uri": "https://localhost:8080/"
        },
        "id": "OFWK3qbcyD12",
        "outputId": "91703205-d679-4a2f-b67e-8304f625576c"
      },
      "execution_count": null,
      "outputs": [
        {
          "output_type": "stream",
          "name": "stdout",
          "text": [
            "True\n"
          ]
        }
      ]
    },
    {
      "cell_type": "code",
      "source": [
        "print(5 > 6)\n",
        "print(6 > 5)"
      ],
      "metadata": {
        "colab": {
          "base_uri": "https://localhost:8080/"
        },
        "id": "eTaEsYOhyLR9",
        "outputId": "676a6b63-5c54-4cab-c7f4-4b27789cb32f"
      },
      "execution_count": null,
      "outputs": [
        {
          "output_type": "stream",
          "name": "stdout",
          "text": [
            "True\n",
            "False\n"
          ]
        }
      ]
    },
    {
      "cell_type": "code",
      "source": [
        "print(5 == 5)\n",
        "print(5 == 6)"
      ],
      "metadata": {
        "colab": {
          "base_uri": "https://localhost:8080/"
        },
        "id": "jnepZMrxyb8E",
        "outputId": "0d8cef10-fe6c-4e95-b6eb-755cd6500084"
      },
      "execution_count": null,
      "outputs": [
        {
          "output_type": "stream",
          "name": "stdout",
          "text": [
            "True\n",
            "False\n"
          ]
        }
      ]
    },
    {
      "cell_type": "code",
      "source": [
        "print(5 != 5)\n",
        "print(5 != 6)"
      ],
      "metadata": {
        "colab": {
          "base_uri": "https://localhost:8080/"
        },
        "id": "2kfmehJqykyM",
        "outputId": "f0327258-d234-443b-acb9-2a9a9518d7d1"
      },
      "execution_count": null,
      "outputs": [
        {
          "output_type": "stream",
          "name": "stdout",
          "text": [
            "False\n",
            "True\n"
          ]
        }
      ]
    },
    {
      "cell_type": "code",
      "source": [
        "word = \"Hallo\"\n",
        "print(word == \"Hallo\")\n",
        "print(word == \"Welt\")"
      ],
      "metadata": {
        "colab": {
          "base_uri": "https://localhost:8080/"
        },
        "id": "F0Cl-2kJyr-m",
        "outputId": "2384a032-dd39-4f6c-a482-7a81b15baa23"
      },
      "execution_count": null,
      "outputs": [
        {
          "output_type": "stream",
          "name": "stdout",
          "text": [
            "True\n",
            "False\n"
          ]
        }
      ]
    },
    {
      "cell_type": "code",
      "source": [
        "word = \"Hallo\"\n",
        "print(word != \"Hallo\")\n",
        "print(word != \"Welt\")"
      ],
      "metadata": {
        "colab": {
          "base_uri": "https://localhost:8080/"
        },
        "id": "wyL22JyNzBQU",
        "outputId": "b14fc0cd-68b7-49db-fe53-573d26669a61"
      },
      "execution_count": null,
      "outputs": [
        {
          "output_type": "stream",
          "name": "stdout",
          "text": [
            "False\n",
            "True\n"
          ]
        }
      ]
    },
    {
      "cell_type": "code",
      "source": [
        "print(5 < 5)\n",
        "print(5 <= 5)"
      ],
      "metadata": {
        "colab": {
          "base_uri": "https://localhost:8080/"
        },
        "id": "Lbzn6Jd0zIRd",
        "outputId": "70cf2afa-dae0-49dd-88cf-35a290c3313c"
      },
      "execution_count": null,
      "outputs": [
        {
          "output_type": "stream",
          "name": "stdout",
          "text": [
            "False\n",
            "True\n"
          ]
        }
      ]
    },
    {
      "cell_type": "code",
      "source": [
        "print(5 > 5)\n",
        "print(5 >= 5)"
      ],
      "metadata": {
        "colab": {
          "base_uri": "https://localhost:8080/"
        },
        "id": "yIwX9emNzYNk",
        "outputId": "c37f362e-f2d8-4123-a6cf-f7ef2b35a7e2"
      },
      "execution_count": null,
      "outputs": [
        {
          "output_type": "stream",
          "name": "stdout",
          "text": [
            "False\n",
            "True\n"
          ]
        }
      ]
    },
    {
      "cell_type": "markdown",
      "source": [
        "Ausdrücke verknüpfen und Booleans"
      ],
      "metadata": {
        "id": "5SSjBN-AzCih"
      }
    },
    {
      "cell_type": "code",
      "source": [
        "age = 35\n",
        "\n",
        "if age >= 30 and age <= 39:\n",
        "  print(\" Diese Person ist in ihren 30-ern\")"
      ],
      "metadata": {
        "id": "bH9UhV2QhsBU",
        "colab": {
          "base_uri": "https://localhost:8080/"
        },
        "outputId": "303b7e23-c9be-4752-b750-8dd3b3c91100"
      },
      "execution_count": null,
      "outputs": [
        {
          "output_type": "stream",
          "name": "stdout",
          "text": [
            " Diese Person ist in ihren 30-ern\n"
          ]
        }
      ]
    },
    {
      "cell_type": "code",
      "source": [
        "age = 45\n",
        "\n",
        "if age < 30 or age > 40:\n",
        "  print(\"Diese Person ist nicht in ihren 30-ern\")"
      ],
      "metadata": {
        "colab": {
          "base_uri": "https://localhost:8080/"
        },
        "id": "1au3yxdxz08o",
        "outputId": "2887fe5b-5985-46f0-e167-9eda68ad3656"
      },
      "execution_count": null,
      "outputs": [
        {
          "output_type": "stream",
          "name": "stdout",
          "text": [
            "Diese Person ist nicht in ihren 30-ern\n"
          ]
        }
      ]
    },
    {
      "cell_type": "code",
      "source": [
        "age = 25\n",
        "print(age < 30)"
      ],
      "metadata": {
        "colab": {
          "base_uri": "https://localhost:8080/"
        },
        "id": "Tx19j5Fh0SC_",
        "outputId": "29a5c5cd-4d04-49b2-8780-543ae998f3db"
      },
      "execution_count": null,
      "outputs": [
        {
          "output_type": "stream",
          "name": "stdout",
          "text": [
            "True\n"
          ]
        }
      ]
    },
    {
      "cell_type": "code",
      "source": [
        "above_30 = age >= 30\n",
        "print(above_30)"
      ],
      "metadata": {
        "colab": {
          "base_uri": "https://localhost:8080/"
        },
        "id": "OOLpWJr_0bWn",
        "outputId": "43fa0cf0-e314-428f-f750-653ea2631262"
      },
      "execution_count": null,
      "outputs": [
        {
          "output_type": "stream",
          "name": "stdout",
          "text": [
            "False\n"
          ]
        }
      ]
    },
    {
      "cell_type": "code",
      "source": [
        "age = 25\n",
        "\n",
        "above_20 = age >= 20\n",
        "print(above_20)\n",
        "\n",
        "if age >= 20:\n",
        "  print(\"if-Abfrage wurde ausgeführt\")"
      ],
      "metadata": {
        "colab": {
          "base_uri": "https://localhost:8080/"
        },
        "id": "Ko-K95Oq064f",
        "outputId": "32d7eb73-725b-4d69-9c5b-f5ad09d82dde"
      },
      "execution_count": null,
      "outputs": [
        {
          "output_type": "stream",
          "name": "stdout",
          "text": [
            "True\n",
            "if-Abfrage wurde ausgeführt\n"
          ]
        }
      ]
    },
    {
      "cell_type": "code",
      "source": [
        "print(True and True)\n",
        "print(True and False)\n",
        "print(False and True)\n",
        "print(False and False)"
      ],
      "metadata": {
        "colab": {
          "base_uri": "https://localhost:8080/"
        },
        "id": "undC89dh1fUP",
        "outputId": "e3e8b639-cb3e-4bb4-d91e-b4cfdcf2e8d6"
      },
      "execution_count": null,
      "outputs": [
        {
          "output_type": "stream",
          "name": "stdout",
          "text": [
            "True\n",
            "False\n",
            "False\n",
            "False\n"
          ]
        }
      ]
    },
    {
      "cell_type": "code",
      "source": [
        "print(True or True)\n",
        "print(True or False)\n",
        "print(False or True)\n",
        "print(False or False)"
      ],
      "metadata": {
        "colab": {
          "base_uri": "https://localhost:8080/"
        },
        "id": "P2b1-j7e2BCW",
        "outputId": "ad7752fc-1774-497f-c945-e23f7ada31ec"
      },
      "execution_count": null,
      "outputs": [
        {
          "output_type": "stream",
          "name": "stdout",
          "text": [
            "True\n",
            "True\n",
            "True\n",
            "False\n"
          ]
        }
      ]
    },
    {
      "cell_type": "code",
      "source": [
        "country = \"US\"\n",
        "age = 20\n",
        "\n",
        "if (country == \"US\" and age < 21) or (country != \"US\" and age < 18):\n",
        "  print(\"Diese Person darf nicht trinken\")"
      ],
      "metadata": {
        "colab": {
          "base_uri": "https://localhost:8080/"
        },
        "id": "hNYwjKJS2J_9",
        "outputId": "108bc3c1-d772-4425-f90c-522efc0636cf"
      },
      "execution_count": null,
      "outputs": [
        {
          "output_type": "stream",
          "name": "stdout",
          "text": [
            "Diese Person darf nicht trinken\n"
          ]
        }
      ]
    },
    {
      "cell_type": "markdown",
      "source": [
        "Der in-Operator"
      ],
      "metadata": {
        "id": "bVHAvbp2E98-"
      }
    },
    {
      "cell_type": "code",
      "source": [
        "students = [\"Monika\", \"\", \"\", \"\"]\n",
        "\n",
        "print(\"Monika\" in students)\n",
        "print(\"Moritz\" in students)\n"
      ],
      "metadata": {
        "colab": {
          "base_uri": "https://localhost:8080/"
        },
        "id": "36n_HZXiFFS1",
        "outputId": "5edc45c4-169c-4789-a737-c0f8a6ea04d6"
      },
      "execution_count": null,
      "outputs": [
        {
          "output_type": "stream",
          "name": "stdout",
          "text": [
            "True\n",
            "False\n"
          ]
        }
      ]
    },
    {
      "cell_type": "code",
      "source": [
        "if \"Monika\" in students:\n",
        "  print(\"Ja, die Monika studiert hier!\")\n",
        "else:\n",
        "  print(\"Nein, die Monika studiert hier nicht!\")\n",
        "\n",
        "if \"Moritz\" in students:\n",
        "  print(\"Ja, der Moritz studiert hier!\")\n",
        "else:\n",
        "  print(\"Nein, der Moritz studiert hier nicht!\")\n"
      ],
      "metadata": {
        "colab": {
          "base_uri": "https://localhost:8080/"
        },
        "id": "4Cl0Z-3f3TqE",
        "outputId": "9b5a1076-49a5-4401-b3a8-20d21f8a1c01"
      },
      "execution_count": null,
      "outputs": [
        {
          "output_type": "stream",
          "name": "stdout",
          "text": [
            "Ja, die Monika studiert hier!\n",
            "Nein, der Moritz studiert hier nicht!\n"
          ]
        }
      ]
    },
    {
      "cell_type": "code",
      "source": [
        "sentence = \"Nein, der Mooritz studiert hier nicht!\"\n",
        "\n",
        "if \"!\" in sentence:\n",
        "  print(\"Ja\")\n",
        "else:\n",
        "  print(\"Nein\")"
      ],
      "metadata": {
        "colab": {
          "base_uri": "https://localhost:8080/"
        },
        "id": "S1TrFq86GVNT",
        "outputId": "4cb8713f-080c-4c9d-b149-c3c9685872d5"
      },
      "execution_count": null,
      "outputs": [
        {
          "output_type": "stream",
          "name": "stdout",
          "text": [
            "Ja\n"
          ]
        }
      ]
    },
    {
      "cell_type": "markdown",
      "source": [
        "Der not-Operator"
      ],
      "metadata": {
        "id": "SWJgui2sL2xe"
      }
    },
    {
      "cell_type": "code",
      "source": [
        "age = 25\n",
        "\n",
        "if not age >= 30:\n",
        "  print(\"ausgeführt\")\n",
        "\n",
        "if age < 30:\n",
        "  print(\"ausgeführt\")"
      ],
      "metadata": {
        "colab": {
          "base_uri": "https://localhost:8080/"
        },
        "id": "tYiB5PGVL9b1",
        "outputId": "73ce8dfa-6ab7-4c3d-edad-163cf9aca112"
      },
      "execution_count": null,
      "outputs": [
        {
          "output_type": "stream",
          "name": "stdout",
          "text": [
            "ausgeführt\n",
            "ausgeführt\n"
          ]
        }
      ]
    },
    {
      "cell_type": "code",
      "source": [
        "names = [\"Max\", \"Nadine\"]\n",
        "\n",
        "if \"Moritz\" not in names:\n",
        "  print(\"Moritz ist nicht in der Liste enthalten\")\n",
        "\n",
        "if not \"Moritz\" in names:\n",
        "  print(\"Moritz ist nicht in der Liste enthalten\")"
      ],
      "metadata": {
        "colab": {
          "base_uri": "https://localhost:8080/"
        },
        "id": "5cv2kT8FMkb1",
        "outputId": "df5677be-9410-4b7c-a2d7-1ad458adcf9d"
      },
      "execution_count": null,
      "outputs": [
        {
          "output_type": "stream",
          "name": "stdout",
          "text": [
            "Moritz ist nicht in der Liste enthalten\n",
            "Moritz ist nicht in der Liste enthalten\n"
          ]
        }
      ]
    },
    {
      "cell_type": "markdown",
      "source": [
        "Elif"
      ],
      "metadata": {
        "id": "rzz1juveNK7d"
      }
    },
    {
      "cell_type": "code",
      "source": [
        "currency = \"€\"\n",
        "\n",
        "if currency == \"$\":\n",
        "  print(\"US-Dollar\")\n",
        "else:\n",
        "  if currency == \"¥\":\n",
        "    print(\"Japanisher Yen\")\n",
        "  else:\n",
        "    if currency == \"€\":\n",
        "      print(\"Euro\")\n",
        "    else:\n",
        "      if currency == \"฿\":\n",
        "        print(\"Thai Baht\")\n",
        "        \n",
        "\n"
      ],
      "metadata": {
        "colab": {
          "base_uri": "https://localhost:8080/"
        },
        "id": "LG4h6OTgNMv9",
        "outputId": "42660063-1f1c-4e82-a843-d77eacbbe663"
      },
      "execution_count": null,
      "outputs": [
        {
          "output_type": "stream",
          "name": "stdout",
          "text": [
            "Euro\n"
          ]
        }
      ]
    },
    {
      "cell_type": "code",
      "source": [
        "currency = \"HKD\"\n",
        "\n",
        "if currency == \"$\":\n",
        "  print(\"US-Dollar\")\n",
        "elif currency == \"¥\":\n",
        "  print(\"Japanisher Yen\")\n",
        "elif currency == \"€\":\n",
        "  print(\"Euro\")\n",
        "elif currency == \"฿\":\n",
        "  print(\"Thai Baht\")\n",
        "else:\n",
        "  print(\"Sonst\")"
      ],
      "metadata": {
        "colab": {
          "base_uri": "https://localhost:8080/"
        },
        "id": "slgxqqDwU1I1",
        "outputId": "c6fb3fee-4a1a-45a3-d784-ca16730fd134"
      },
      "execution_count": null,
      "outputs": [
        {
          "output_type": "stream",
          "name": "stdout",
          "text": [
            "Sonst\n"
          ]
        }
      ]
    },
    {
      "cell_type": "markdown",
      "source": [
        "# Die while-Schleife"
      ],
      "metadata": {
        "id": "4yRIeWQ-dwUV"
      }
    },
    {
      "cell_type": "code",
      "source": [
        "counter = 0\n",
        "\n",
        "while counter < 10:\n",
        "  print(counter)\n",
        "  counter = counter + 1\n",
        "\n",
        "  print(\"Hallo Welt\")"
      ],
      "metadata": {
        "colab": {
          "base_uri": "https://localhost:8080/"
        },
        "id": "N6wlIxNzd2-n",
        "outputId": "530e9dc6-f544-4a7a-aaac-974b7ed74bd0"
      },
      "execution_count": null,
      "outputs": [
        {
          "output_type": "stream",
          "name": "stdout",
          "text": [
            "0\n",
            "Hallo Welt\n",
            "1\n",
            "Hallo Welt\n",
            "2\n",
            "Hallo Welt\n",
            "3\n",
            "Hallo Welt\n",
            "4\n",
            "Hallo Welt\n",
            "5\n",
            "Hallo Welt\n",
            "6\n",
            "Hallo Welt\n",
            "7\n",
            "Hallo Welt\n",
            "8\n",
            "Hallo Welt\n",
            "9\n",
            "Hallo Welt\n"
          ]
        }
      ]
    },
    {
      "cell_type": "markdown",
      "source": [
        "Die for-Schleife"
      ],
      "metadata": {
        "id": "T9CRP__Uhg7X"
      }
    },
    {
      "cell_type": "code",
      "source": [
        "for i in range(0, 10):\n",
        "  print(i)"
      ],
      "metadata": {
        "colab": {
          "base_uri": "https://localhost:8080/"
        },
        "id": "7QpwnogxeaeL",
        "outputId": "8e2e01ba-c7f0-4dc2-e51a-1d3f364670ab"
      },
      "execution_count": null,
      "outputs": [
        {
          "output_type": "stream",
          "name": "stdout",
          "text": [
            "0\n",
            "1\n",
            "2\n",
            "3\n",
            "4\n",
            "5\n",
            "6\n",
            "7\n",
            "8\n",
            "9\n"
          ]
        }
      ]
    },
    {
      "cell_type": "code",
      "source": [
        "liste = [5, 8, 10]\n",
        "for i in liste:\n",
        "  print(i)"
      ],
      "metadata": {
        "colab": {
          "base_uri": "https://localhost:8080/"
        },
        "id": "C5xn9_cOh0Nm",
        "outputId": "3307cdd1-e9ec-480f-a7eb-9cf9180341e5"
      },
      "execution_count": null,
      "outputs": [
        {
          "output_type": "stream",
          "name": "stdout",
          "text": [
            "5\n",
            "8\n",
            "10\n"
          ]
        }
      ]
    },
    {
      "cell_type": "markdown",
      "source": [
        "Wann welche Schleife"
      ],
      "metadata": {
        "id": "zeavp6RFiOLW"
      }
    },
    {
      "cell_type": "code",
      "source": [
        "counter = 0\n",
        "\n",
        "while counter < 10: \n",
        "  print(counter)\n",
        "  counter = counter + 1\n"
      ],
      "metadata": {
        "colab": {
          "base_uri": "https://localhost:8080/"
        },
        "id": "dDgQhLYQ9Myr",
        "outputId": "a9ca16e7-1dd6-49a5-9cff-e37efb05e17f"
      },
      "execution_count": null,
      "outputs": [
        {
          "output_type": "stream",
          "name": "stdout",
          "text": [
            "0\n",
            "1\n",
            "2\n",
            "3\n",
            "4\n",
            "5\n",
            "6\n",
            "7\n",
            "8\n",
            "9\n"
          ]
        }
      ]
    },
    {
      "cell_type": "code",
      "source": [
        "for counter in  range(0, 10):\n",
        "  print(counter)"
      ],
      "metadata": {
        "colab": {
          "base_uri": "https://localhost:8080/"
        },
        "id": "BzNcZGXL91Q4",
        "outputId": "ed5650ce-0491-4507-e88a-01110c953216"
      },
      "execution_count": null,
      "outputs": [
        {
          "output_type": "stream",
          "name": "stdout",
          "text": [
            "0\n",
            "1\n",
            "2\n",
            "3\n",
            "4\n",
            "5\n",
            "6\n",
            "7\n",
            "8\n",
            "9\n"
          ]
        }
      ]
    },
    {
      "cell_type": "markdown",
      "source": [
        "Schleifen (break, continue)"
      ],
      "metadata": {
        "id": "jGINEe2e-Qdm"
      }
    },
    {
      "cell_type": "code",
      "source": [
        "i = 0\n",
        "for i in range (0,10):\n",
        "  if i == 3:\n",
        "    continue\n",
        "  print(i)\n",
        "  "
      ],
      "metadata": {
        "colab": {
          "base_uri": "https://localhost:8080/"
        },
        "id": "sYjiXB7z7MaB",
        "outputId": "eee028e8-4725-4598-fcc6-95fc07c87c15"
      },
      "execution_count": null,
      "outputs": [
        {
          "output_type": "stream",
          "name": "stdout",
          "text": [
            "0\n",
            "1\n",
            "2\n",
            "4\n",
            "5\n",
            "6\n",
            "7\n",
            "8\n",
            "9\n"
          ]
        }
      ]
    },
    {
      "cell_type": "code",
      "source": [
        "i = 0\n",
        "\n",
        "for i in range(0, 10):\n",
        "  if i == 3:\n",
        "    continue\n",
        "  print(i)"
      ],
      "metadata": {
        "colab": {
          "base_uri": "https://localhost:8080/"
        },
        "id": "79P85H7VIBxQ",
        "outputId": "86893b29-15a6-4485-ae47-87a669fb8f10"
      },
      "execution_count": null,
      "outputs": [
        {
          "output_type": "stream",
          "name": "stdout",
          "text": [
            "0\n",
            "1\n",
            "2\n",
            "4\n",
            "5\n",
            "6\n",
            "7\n",
            "8\n",
            "9\n"
          ]
        }
      ]
    },
    {
      "cell_type": "code",
      "source": [
        "for i in range(0, 10):\n",
        "  if i == 3:\n",
        "    break\n",
        "  print(i)"
      ],
      "metadata": {
        "colab": {
          "base_uri": "https://localhost:8080/"
        },
        "id": "0YIHqYq6IbUU",
        "outputId": "b23e92ee-c162-47b7-a13d-62397c969b04"
      },
      "execution_count": null,
      "outputs": [
        {
          "output_type": "stream",
          "name": "stdout",
          "text": [
            "0\n",
            "1\n",
            "2\n"
          ]
        }
      ]
    },
    {
      "cell_type": "code",
      "source": [
        "liste = [4, 6, 7, 2, 4, 6, 7]\n",
        "s = 0\n",
        "for element in liste:\n",
        "  s = s + element\n",
        "  if s > 10:\n",
        "    break\n",
        "print(s)"
      ],
      "metadata": {
        "colab": {
          "base_uri": "https://localhost:8080/"
        },
        "id": "Pp7X0d1uIqeM",
        "outputId": "6fc19286-5e0f-4b19-b379-c8525ee7603e"
      },
      "execution_count": null,
      "outputs": [
        {
          "output_type": "stream",
          "name": "stdout",
          "text": [
            "17\n"
          ]
        }
      ]
    },
    {
      "cell_type": "markdown",
      "source": [
        ""
      ],
      "metadata": {
        "id": "F962uv0Eg6Ms"
      }
    },
    {
      "cell_type": "code",
      "source": [
        "num = 1234\n",
        "reversed_num = 0\n",
        "\n",
        "while num != 0:\n",
        "    digit = num % 10\n",
        "    reversed_num = reversed_num * 10 + digit\n",
        "    num //= 10\n",
        "\n",
        "print(\"Reversed Number: \" + str(reversed_num))"
      ],
      "metadata": {
        "id": "NqPKbOTFg4ZW",
        "colab": {
          "base_uri": "https://localhost:8080/"
        },
        "outputId": "cd9910ec-80a3-48a4-a231-c3d2baf7f67c"
      },
      "execution_count": null,
      "outputs": [
        {
          "output_type": "stream",
          "name": "stdout",
          "text": [
            "Reversed Number: 4321\n"
          ]
        }
      ]
    },
    {
      "cell_type": "code",
      "source": [
        "def reverse_digits(raqam: int) -> int:  \n",
        " teskari_son = 0\n",
        " while (raqam != 0):\n",
        "   soncha = raqam % 10\n",
        "   teskari_son = teskari_son * 10 + soncha\n",
        "   raqam /= 10 \n",
        "   raqam = int(raqam)\n",
        " return teskari_son \n",
        "   \n",
        "#reverse_digits(45)\n",
        "\n",
        "reverse_digits(510)"
      ],
      "metadata": {
        "colab": {
          "base_uri": "https://localhost:8080/"
        },
        "id": "kXY6jicm5xqI",
        "outputId": "8d183d02-f6bc-40e6-b43e-719c4bbf916f"
      },
      "execution_count": null,
      "outputs": [
        {
          "output_type": "execute_result",
          "data": {
            "text/plain": [
              "15"
            ]
          },
          "metadata": {},
          "execution_count": 36
        }
      ]
    },
    {
      "cell_type": "code",
      "source": [
        "def reverse_digits(raqam: int) -> int:\n",
        " teskari_son = 0\n",
        " while(raqam>=1):\n",
        "   soncha = raqam % 10\n",
        "   teskari_son = teskari_son * 10 + soncha\n",
        "   raqam /= 10 \n",
        "   raqam = int(raqam)\n",
        " return teskari_son \n",
        " \n",
        "print(str(reverse_digits(3)),str(reverse_digits(154)),str(reverse_digits(710)),reverse_digits(600))"
      ],
      "metadata": {
        "colab": {
          "base_uri": "https://localhost:8080/"
        },
        "id": "KITkJlzbeqIh",
        "outputId": "5ba7c599-5699-4df8-d2ae-44fe343ceebb"
      },
      "execution_count": null,
      "outputs": [
        {
          "output_type": "stream",
          "name": "stdout",
          "text": [
            "3 451 17 6\n"
          ]
        }
      ]
    },
    {
      "cell_type": "code",
      "source": [
        "def reverse_digits(raqam: int) -> int:\n",
        " teskari_son = 0\n",
        " while(raqam>=1):\n",
        "   soncha = raqam % 10\n",
        "   teskari_son = teskari_son * 10 + soncha\n",
        "   raqam /= 10 \n",
        "   raqam = int(raqam)\n",
        " return teskari_son \n",
        " \n",
        "print(reverse_digits(154))\n",
        "print(reverse_digits(710))\n",
        "print(reverse_digits(600))"
      ],
      "metadata": {
        "colab": {
          "base_uri": "https://localhost:8080/"
        },
        "id": "bYB6UjM-jfl9",
        "outputId": "a9dc0b19-9ae7-48b7-86cc-7a9fef8e44b7"
      },
      "execution_count": null,
      "outputs": [
        {
          "output_type": "stream",
          "name": "stdout",
          "text": [
            "451\n",
            "17\n",
            "6\n"
          ]
        }
      ]
    },
    {
      "cell_type": "code",
      "source": [
        "def reverse(number): \n",
        "  y=0 \n",
        "  while(number>=1):\n",
        "   z = number % 10\n",
        "   y = 10 * y + z\n",
        "   number = number / 10\n",
        "   number = int(number)\n",
        "  return y\n",
        "\n",
        "#print(str(reverse(45)),reverse(56))\n",
        "print(str(reverse(3)),str(reverse(154)),str(reverse(710)),reverse(600)) "
      ],
      "metadata": {
        "colab": {
          "base_uri": "https://localhost:8080/"
        },
        "id": "Mez965fZBmxz",
        "outputId": "2608bd01-1ba7-43b5-b6ee-351384ab7693"
      },
      "execution_count": null,
      "outputs": [
        {
          "output_type": "stream",
          "name": "stdout",
          "text": [
            "3 451 17 6\n"
          ]
        }
      ]
    },
    {
      "cell_type": "code",
      "source": [
        "temp = \"{0:b}\".format(6)\n",
        "\n",
        "print(temp)"
      ],
      "metadata": {
        "colab": {
          "base_uri": "https://localhost:8080/"
        },
        "id": "M4-dlC0JmrOZ",
        "outputId": "b449b8d8-7fd8-46db-d3fd-a14554fe3e55"
      },
      "execution_count": null,
      "outputs": [
        {
          "output_type": "stream",
          "name": "stdout",
          "text": [
            "110\n"
          ]
        }
      ]
    },
    {
      "cell_type": "code",
      "source": [
        "def convert_to_binary(num: int) -> str:\n",
        "    temp = \"{0:b}\".format(4)\n",
        "    temp = \"{0:b}\".format(1)\n",
        "    temp = \"{0:b}\".format(6)\n",
        "    temp = \"{0:b}\".format(13)\n",
        "    temp = \"{0:b}\".format(38)\n"
      ],
      "metadata": {
        "id": "Q5y9iy7-nxR2"
      },
      "execution_count": null,
      "outputs": []
    },
    {
      "cell_type": "code",
      "source": [
        "def convert_to_binary(num: int) -> str:\n",
        "    return bin(num).replace(\"0b\", \"\")"
      ],
      "metadata": {
        "id": "qInwys-GwyWZ"
      },
      "execution_count": null,
      "outputs": []
    },
    {
      "cell_type": "code",
      "source": [
        "def is_power_of_two(num: int) -> bool:\n",
        "    return (num and (not(num & (num - 1))))"
      ],
      "metadata": {
        "id": "VqQtqaLR8czp"
      },
      "execution_count": null,
      "outputs": []
    },
    {
      "cell_type": "code",
      "source": [
        "def sum_of_odd_numbers(n: int) -> int:\n",
        " maximum = int(input(\" Please Enter the Maximum Value : \"))\n",
        " Oddtotal = 0\n",
        " \n",
        " for n in range(1, maximum+1):\n",
        "    if(n % 2 != 0):\n",
        "        print(\"{0}\".format(n))\n",
        "        Oddtotal = Oddtotal + n\n",
        " print(\"The Sum of Odd Numbers from 1 to {0} = {1}\".format(n, Oddtotal))\n",
        "\n",
        "sum_of_odd_numbers(\"\")"
      ],
      "metadata": {
        "colab": {
          "base_uri": "https://localhost:8080/"
        },
        "id": "yPavB8sg_-hW",
        "outputId": "53bfd189-7fe1-4555-b7b0-13331a7e0ba5"
      },
      "execution_count": null,
      "outputs": [
        {
          "output_type": "stream",
          "name": "stdout",
          "text": [
            " Please Enter the Maximum Value : 8\n",
            "1\n",
            "3\n",
            "5\n",
            "7\n",
            "The Sum of Odd Numbers from 1 to 8 = 16\n"
          ]
        }
      ]
    },
    {
      "cell_type": "code",
      "source": [
        "def is_palindrome(word: str) -> bool:\n",
        "    return word == word[::-1]"
      ],
      "metadata": {
        "id": "9iDwtJMwGwco"
      },
      "execution_count": null,
      "outputs": []
    },
    {
      "cell_type": "code",
      "source": [
        "import numpy\n",
        "def merge_two_arrays(arr1: list[int], arr2: list[int]) -> list[int]:\n",
        "   con = numpy.concatenate((arr1, arr2), sep=' ')\n",
        "   print(con)"
      ],
      "metadata": {
        "colab": {
          "base_uri": "https://localhost:8080/",
          "height": 227
        },
        "id": "IzEoyIhwIOVs",
        "outputId": "b94b5536-000d-4305-812e-2dec914df7e3"
      },
      "execution_count": null,
      "outputs": [
        {
          "output_type": "error",
          "ename": "TypeError",
          "evalue": "ignored",
          "traceback": [
            "\u001b[0;31m---------------------------------------------------------------------------\u001b[0m",
            "\u001b[0;31mTypeError\u001b[0m                                 Traceback (most recent call last)",
            "\u001b[0;32m<ipython-input-74-a328be5a1f9b>\u001b[0m in \u001b[0;36m<module>\u001b[0;34m()\u001b[0m\n\u001b[1;32m      1\u001b[0m \u001b[0;32mimport\u001b[0m \u001b[0mnumpy\u001b[0m\u001b[0;34m\u001b[0m\u001b[0;34m\u001b[0m\u001b[0m\n\u001b[0;32m----> 2\u001b[0;31m \u001b[0;32mdef\u001b[0m \u001b[0mmerge_two_arrays\u001b[0m\u001b[0;34m(\u001b[0m\u001b[0marr1\u001b[0m\u001b[0;34m:\u001b[0m \u001b[0mlist\u001b[0m\u001b[0;34m[\u001b[0m\u001b[0mint\u001b[0m\u001b[0;34m]\u001b[0m\u001b[0;34m,\u001b[0m \u001b[0marr2\u001b[0m\u001b[0;34m:\u001b[0m \u001b[0mlist\u001b[0m\u001b[0;34m[\u001b[0m\u001b[0mint\u001b[0m\u001b[0;34m]\u001b[0m\u001b[0;34m)\u001b[0m \u001b[0;34m->\u001b[0m \u001b[0mlist\u001b[0m\u001b[0;34m[\u001b[0m\u001b[0mint\u001b[0m\u001b[0;34m]\u001b[0m\u001b[0;34m:\u001b[0m\u001b[0;34m\u001b[0m\u001b[0;34m\u001b[0m\u001b[0m\n\u001b[0m\u001b[1;32m      3\u001b[0m    \u001b[0mcon\u001b[0m \u001b[0;34m=\u001b[0m \u001b[0mnumpy\u001b[0m\u001b[0;34m.\u001b[0m\u001b[0mconcatenate\u001b[0m\u001b[0;34m(\u001b[0m\u001b[0;34m(\u001b[0m\u001b[0marr1\u001b[0m\u001b[0;34m,\u001b[0m \u001b[0marr2\u001b[0m\u001b[0;34m)\u001b[0m\u001b[0;34m,\u001b[0m \u001b[0msep\u001b[0m\u001b[0;34m=\u001b[0m\u001b[0;34m' '\u001b[0m\u001b[0;34m)\u001b[0m\u001b[0;34m\u001b[0m\u001b[0;34m\u001b[0m\u001b[0m\n\u001b[1;32m      4\u001b[0m    \u001b[0mprint\u001b[0m\u001b[0;34m(\u001b[0m\u001b[0mcon\u001b[0m\u001b[0;34m)\u001b[0m\u001b[0;34m\u001b[0m\u001b[0;34m\u001b[0m\u001b[0m\n",
            "\u001b[0;31mTypeError\u001b[0m: 'type' object is not subscriptable"
          ]
        }
      ]
    },
    {
      "cell_type": "code",
      "source": [
        "class Node:\n",
        "    def __init__(self, val: int):\n",
        "        self.val = val\n",
        "        self.next = None\n",
        "\n",
        "def print_elements(head: Node) -> None:\n",
        " #self.head = ListNode(resls[0], None)\n",
        " head =[1 ,2, 3]\n",
        " print(head)                       \n",
        " print(str(head).replace(\" \",\"\"))\n",
        "\n",
        "print(print_elements())"
      ],
      "metadata": {
        "id": "DXSJqF5MNDRf",
        "outputId": "e4e1e6b3-af40-4825-a278-cf7b2569c275",
        "colab": {
          "base_uri": "https://localhost:8080/",
          "height": 209
        }
      },
      "execution_count": 8,
      "outputs": [
        {
          "output_type": "error",
          "ename": "TypeError",
          "evalue": "ignored",
          "traceback": [
            "\u001b[0;31m---------------------------------------------------------------------------\u001b[0m",
            "\u001b[0;31mTypeError\u001b[0m                                 Traceback (most recent call last)",
            "\u001b[0;32m<ipython-input-8-849b6adde57a>\u001b[0m in \u001b[0;36m<module>\u001b[0;34m()\u001b[0m\n\u001b[1;32m     10\u001b[0m  \u001b[0mprint\u001b[0m\u001b[0;34m(\u001b[0m\u001b[0mstr\u001b[0m\u001b[0;34m(\u001b[0m\u001b[0mhead\u001b[0m\u001b[0;34m)\u001b[0m\u001b[0;34m.\u001b[0m\u001b[0mreplace\u001b[0m\u001b[0;34m(\u001b[0m\u001b[0;34m\" \"\u001b[0m\u001b[0;34m,\u001b[0m\u001b[0;34m\"\"\u001b[0m\u001b[0;34m)\u001b[0m\u001b[0;34m)\u001b[0m\u001b[0;34m\u001b[0m\u001b[0;34m\u001b[0m\u001b[0m\n\u001b[1;32m     11\u001b[0m \u001b[0;34m\u001b[0m\u001b[0m\n\u001b[0;32m---> 12\u001b[0;31m \u001b[0mprint\u001b[0m\u001b[0;34m(\u001b[0m\u001b[0mprint_elements\u001b[0m\u001b[0;34m(\u001b[0m\u001b[0;34m)\u001b[0m\u001b[0;34m)\u001b[0m\u001b[0;34m\u001b[0m\u001b[0;34m\u001b[0m\u001b[0m\n\u001b[0m",
            "\u001b[0;31mTypeError\u001b[0m: print_elements() missing 1 required positional argument: 'head'"
          ]
        }
      ]
    }
  ]
}